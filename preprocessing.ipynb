{
 "cells": [
  {
   "cell_type": "code",
   "execution_count": 1,
   "metadata": {
    "execution": {
     "iopub.execute_input": "2022-02-18T18:54:36.737112Z",
     "iopub.status.busy": "2022-02-18T18:54:36.736673Z",
     "iopub.status.idle": "2022-02-18T18:54:37.410709Z",
     "shell.execute_reply": "2022-02-18T18:54:37.410205Z",
     "shell.execute_reply.started": "2022-02-18T18:54:36.736974Z"
    }
   },
   "outputs": [],
   "source": [
    "%reload_ext autoreload\n",
    "%autoreload 2\n",
    "\n",
    "from cleaning_funcs import *\n",
    "\n",
    "import numpy as np\n",
    "import pandas as pd"
   ]
  },
  {
   "cell_type": "markdown",
   "metadata": {},
   "source": [
    "# Preprocessing Script\n",
    "The data underlying the results presented in the study are available upon request, with consent from each individual lab that contributed data to the study before sharing their data. This notebook will not run without the data but is still included to show how we prepared the standardized lab dataset for our analysis. \n",
    "\n",
    "The final cleaned and processed dataset produced at the end of this notebook is included in this Github repository."
   ]
  },
  {
   "cell_type": "markdown",
   "metadata": {
    "execution": {
     "iopub.execute_input": "2021-09-08T21:19:18.683376Z",
     "iopub.status.busy": "2021-09-08T21:19:18.683023Z",
     "iopub.status.idle": "2021-09-08T21:19:18.699081Z",
     "shell.execute_reply": "2021-09-08T21:19:18.698241Z",
     "shell.execute_reply.started": "2021-09-08T21:19:18.683332Z"
    }
   },
   "source": [
    "# Prepare Dataset"
   ]
  },
  {
   "cell_type": "markdown",
   "metadata": {
    "execution": {
     "iopub.execute_input": "2021-09-08T21:19:28.131821Z",
     "iopub.status.busy": "2021-09-08T21:19:28.131161Z",
     "iopub.status.idle": "2021-09-08T21:19:28.151736Z",
     "shell.execute_reply": "2021-09-08T21:19:28.150119Z",
     "shell.execute_reply.started": "2021-09-08T21:19:28.131759Z"
    }
   },
   "source": [
    "## Load Dataset"
   ]
  },
  {
   "cell_type": "code",
   "execution_count": 2,
   "metadata": {
    "execution": {
     "iopub.execute_input": "2022-02-18T18:54:38.233387Z",
     "iopub.status.busy": "2022-02-18T18:54:38.232701Z",
     "iopub.status.idle": "2022-02-18T18:54:38.813980Z",
     "shell.execute_reply": "2022-02-18T18:54:38.813330Z",
     "shell.execute_reply.started": "2022-02-18T18:54:38.233302Z"
    }
   },
   "outputs": [
    {
     "name": "stderr",
     "output_type": "stream",
     "text": [
      "/home/christiana/anaconda3/lib/python3.7/site-packages/IPython/core/interactiveshell.py:3166: DtypeWarning: Columns (6) have mixed types.Specify dtype option on import or set low_memory=False.\n",
      "  interactivity=interactivity, compiler=compiler, result=result)\n"
     ]
    }
   ],
   "source": [
    "lab_data = pd.read_csv('data/standardized_lab_data_220218.csv', parse_dates=['test_date'])\n",
    "df = lab_data.copy()"
   ]
  },
  {
   "cell_type": "code",
   "execution_count": 3,
   "metadata": {
    "execution": {
     "iopub.execute_input": "2022-02-18T18:54:38.815139Z",
     "iopub.status.busy": "2022-02-18T18:54:38.814955Z",
     "iopub.status.idle": "2022-02-18T18:54:39.154707Z",
     "shell.execute_reply": "2022-02-18T18:54:39.154095Z",
     "shell.execute_reply.started": "2022-02-18T18:54:38.815115Z"
    }
   },
   "outputs": [],
   "source": [
    "# indicate lab in producer name\n",
    "df['anon_producer2'] = df['anon_producer'].astype(str).str.extract('(\\d+)') \n",
    "df['producer_id'] = df['anon_producer2']+'_'+df['lab_id']\n",
    "\n",
    "# get unknown producers\n",
    "prod_bool = df['anon_producer2'].isnull()\n",
    "\n",
    "# treat producers as separate across data dumps for CA\n",
    "lab_bool = df['lab_id']=='confidence_analytics'\n",
    "df.loc[lab_bool, 'producer_id'] = df.loc[lab_bool, 'producer_id'] + df.loc[lab_bool, 'dump_no'].astype(str)\n",
    "\n",
    "# further anonymize IDs\n",
    "df['anon_producer'] = df['producer_id'].astype('category').cat.codes.astype('str')\n",
    "df.loc[prod_bool, 'anon_producer'] = np.nan"
   ]
  },
  {
   "cell_type": "markdown",
   "metadata": {},
   "source": [
    "## Cannab Data Prep"
   ]
  },
  {
   "cell_type": "code",
   "execution_count": 4,
   "metadata": {
    "execution": {
     "iopub.execute_input": "2022-02-18T18:54:39.155905Z",
     "iopub.status.busy": "2022-02-18T18:54:39.155718Z",
     "iopub.status.idle": "2022-02-18T18:54:39.299212Z",
     "shell.execute_reply": "2022-02-18T18:54:39.298314Z",
     "shell.execute_reply.started": "2022-02-18T18:54:39.155872Z"
    }
   },
   "outputs": [],
   "source": [
    "# fill acid rows, also minor cannabs missing acids\n",
    "cannabs_0 = ['thca','cbda','cbga','thcva']\n",
    "cannabs_missing_a = ['cbca','cbdva','cbna','cbta','d8_thca']\n",
    "df[cannabs_0] = df[cannabs_0].fillna(0)\n",
    "df[cannabs_missing_a] = 0\n",
    "\n",
    "# designate pairs\n",
    "cannab_pairs = [('thc','thca'),\n",
    "               ('cbd','cbda'),\n",
    "               ('cbg','cbga'),\n",
    "               ('cbc','cbca'),\n",
    "               ('cbn','cbna'),\n",
    "               ('cbt','cbta'),\n",
    "               ('d8_thc','d8_thca')]\n",
    "cannab_pairs_v = [('thcv','thcva'),\n",
    "                 ('cbdv','cbdva')]\n",
    "\n",
    "# decarb cannabs\n",
    "for cannab_pair in cannab_pairs:\n",
    "    col_name = 'tot_'+cannab_pair[0]\n",
    "    df[col_name] = decarb(df, cannab_pair[0], cannab_pair[1])\n",
    "\n",
    "# decarb cannabs -varin\n",
    "for cannab_pair in cannab_pairs_v:\n",
    "    col_name = 'tot_'+cannab_pair[0]\n",
    "    df[col_name] = decarb(df, cannab_pair[0], cannab_pair[1], varin=True)\n",
    "    \n",
    "cannab_cols = ['tot_thc',\n",
    "'tot_cbd',\n",
    "'tot_cbg',\n",
    "'tot_cbc',\n",
    "'tot_cbn',\n",
    "'tot_cbdv',\n",
    "'tot_cbt',\n",
    "'tot_d8_thc',\n",
    "'tot_thcv',\n",
    "'cbc','cbca',\n",
    "'cbd','cbda',\n",
    "'cbdv','cbdva',\n",
    "'cbg','cbga',\n",
    "'cbn','cbna',\n",
    "'cbt','cbta',\n",
    "'d8_thc','d8_thca',\n",
    "'thc','thca',\n",
    "'thcv','thcva']\n",
    "\n",
    "tot_cannab_cols = ['tot_thc',\n",
    "'tot_cbd',\n",
    "'tot_cbg',\n",
    "'tot_cbc',\n",
    "'tot_cbn',\n",
    "'tot_cbdv',\n",
    "'tot_cbt',\n",
    "'tot_d8_thc',\n",
    "'tot_thcv']"
   ]
  },
  {
   "cell_type": "code",
   "execution_count": 5,
   "metadata": {
    "execution": {
     "iopub.execute_input": "2022-02-18T18:54:41.854110Z",
     "iopub.status.busy": "2022-02-18T18:54:41.853440Z",
     "iopub.status.idle": "2022-02-18T18:54:41.931968Z",
     "shell.execute_reply": "2022-02-18T18:54:41.930889Z",
     "shell.execute_reply.started": "2022-02-18T18:54:41.854028Z"
    }
   },
   "outputs": [],
   "source": [
    "# determine THC/CBD ratio\n",
    "df['chemotype_ratio'] = df['tot_thc'].div(df['tot_cbd'], fill_value=0)\n",
    "df.loc[(df['tot_thc']==0)&(df['tot_cbd']!=0), 'chemotype_ratio'] = -np.inf\n",
    "df.loc[(df['tot_thc']!=0)&(df['tot_cbd']==0), 'chemotype_ratio'] = np.inf\n",
    "\n",
    "# bin chemotypes by ratio\n",
    "df['chemotype'] = pd.cut(df['chemotype_ratio'],\n",
    "                            [-np.inf, 0.2, 5, np.inf],\n",
    "                             labels=['CBD-Dom','Bal THC/CBD', 'THC-Dom'],\n",
    "                        include_lowest=True)"
   ]
  },
  {
   "cell_type": "code",
   "execution_count": 6,
   "metadata": {
    "execution": {
     "iopub.execute_input": "2022-02-18T18:54:42.080733Z",
     "iopub.status.busy": "2022-02-18T18:54:42.080218Z",
     "iopub.status.idle": "2022-02-18T18:54:42.113952Z",
     "shell.execute_reply": "2022-02-18T18:54:42.112969Z",
     "shell.execute_reply.started": "2022-02-18T18:54:42.080670Z"
    }
   },
   "outputs": [],
   "source": [
    "# create cannab bool\n",
    "df['has_cannabs'] = ~df['chemotype'].isnull()"
   ]
  },
  {
   "cell_type": "markdown",
   "metadata": {
    "execution": {
     "iopub.execute_input": "2021-09-08T20:22:45.713867Z",
     "iopub.status.busy": "2021-09-08T20:22:45.713618Z",
     "iopub.status.idle": "2021-09-08T20:22:45.716834Z",
     "shell.execute_reply": "2021-09-08T20:22:45.716178Z",
     "shell.execute_reply.started": "2021-09-08T20:22:45.713841Z"
    }
   },
   "source": [
    "## Terp Data Prep"
   ]
  },
  {
   "cell_type": "code",
   "execution_count": 7,
   "metadata": {
    "execution": {
     "iopub.execute_input": "2022-02-18T18:54:43.086569Z",
     "iopub.status.busy": "2022-02-18T18:54:43.085879Z",
     "iopub.status.idle": "2022-02-18T18:54:43.198319Z",
     "shell.execute_reply": "2022-02-18T18:54:43.197492Z",
     "shell.execute_reply.started": "2022-02-18T18:54:43.086483Z"
    }
   },
   "outputs": [
    {
     "name": "stdout",
     "output_type": "stream",
     "text": [
      "n terp cols dropped: 4\n"
     ]
    }
   ],
   "source": [
    "terps = ['a_cedrene', 'a_ocimene', 'a_phellandrene', 'a_pinene', 'a_terpinene',\n",
    "       'a_terpineol', 'b_maaliene', 'b_nerolidol', 'b_ocimene', 'b_pinene',\n",
    "       'bisabolol', 'borneol', 'borneol_isomers', 'camphene', 'camphor',\n",
    "       'carene', 'caryophyllene', 'caryophyllene_oxide', 'cedrol',\n",
    "       'cis_nerolidol', 'cis_ocimene', 'cis_phytol', 'citronellol',\n",
    "       'eucalyptol', 'farnesene', 'fenchol', 'fenchone', 'fenchyl_alcohol',\n",
    "       'g_terpinene', 'g_terpineol', 'geraniol', 'geranyl_acetate', 'guaiol',\n",
    "       'humulene', 'iso_borneol', 'iso_pulegol', 'limonene', 'linalool',\n",
    "       'menthol', 'myrcene', 'nerol', 'nerolidol', 'ocimene', 'p_cymene',\n",
    "       'phytol', 'pulegone', 'sabinene', 'sabinene_hydrate', 'selinadiene',\n",
    "       'terpineol', 'terpinolene', 'thujene', 'thymol', 'trans_nerolidol',\n",
    "       'trans_ocimene', 'trans_phytol', 'valencene']\n",
    "\n",
    "# drop empty terp columns\n",
    "empty_terps = df[terps].columns[(~df[terps].isnull()).sum()==0]\n",
    "print('n terp cols dropped: '+str(len(empty_terps)))\n",
    "df = df.drop(columns=empty_terps).copy()\n",
    "terps = [x for x in terps if x not in empty_terps]"
   ]
  },
  {
   "cell_type": "code",
   "execution_count": 8,
   "metadata": {
    "execution": {
     "iopub.execute_input": "2022-02-18T18:54:43.528321Z",
     "iopub.status.busy": "2022-02-18T18:54:43.527537Z",
     "iopub.status.idle": "2022-02-18T18:54:43.572909Z",
     "shell.execute_reply": "2022-02-18T18:54:43.571672Z",
     "shell.execute_reply.started": "2022-02-18T18:54:43.528221Z"
    }
   },
   "outputs": [],
   "source": [
    "# update ChemHistory measurements for nerolidol and farnesene\n",
    "chem_bool = df['lab_id']=='chemhistory'\n",
    "date_bool = df['test_date']<'2020-04-01'\n",
    "\n",
    "df.loc[chem_bool & date_bool,\n",
    "       ['cis_nerolidol','trans_nerolidol','nerolidol','farnesene']] = np.nan"
   ]
  },
  {
   "cell_type": "code",
   "execution_count": 9,
   "metadata": {
    "execution": {
     "iopub.execute_input": "2022-02-18T18:54:43.824943Z",
     "iopub.status.busy": "2022-02-18T18:54:43.824695Z",
     "iopub.status.idle": "2022-02-18T18:54:43.871670Z",
     "shell.execute_reply": "2022-02-18T18:54:43.870792Z",
     "shell.execute_reply.started": "2022-02-18T18:54:43.824914Z"
    }
   },
   "outputs": [],
   "source": [
    "# count total non-zero terps for each sample\n",
    "df['n_measured_terps'] = (~df[terps].isnull()).sum(axis=1)\n",
    "\n",
    "# create terp bool\n",
    "terp_bool = df['n_measured_terps']>0\n",
    "df['has_terps'] = terp_bool\n",
    "\n",
    "df['has_both'] = df['has_cannabs']&df['has_terps']"
   ]
  },
  {
   "cell_type": "code",
   "execution_count": 10,
   "metadata": {
    "execution": {
     "iopub.execute_input": "2022-02-18T18:54:44.252365Z",
     "iopub.status.busy": "2022-02-18T18:54:44.251906Z",
     "iopub.status.idle": "2022-02-18T18:54:44.418667Z",
     "shell.execute_reply": "2022-02-18T18:54:44.417548Z",
     "shell.execute_reply.started": "2022-02-18T18:54:44.252312Z"
    }
   },
   "outputs": [
    {
     "name": "stdout",
     "output_type": "stream",
     "text": [
      "Index(['tot_ocimene', 'camphene', 'g_terpinene', 'tot_nerolidol_ct',\n",
      "       'humulene', 'caryophyllene', 'limonene', 'linalool', 'myrcene',\n",
      "       'bisabolol', 'b_pinene', 'a_terpinene', 'terpinolene', 'a_pinene'],\n",
      "      dtype='object')\n"
     ]
    }
   ],
   "source": [
    "# specify nerolidol isomers\n",
    "nero = ['cis_nerolidol','nerolidol','trans_nerolidol']\n",
    "df['tot_nerolidol_ct'] = df[nero].sum(axis=1)\n",
    "terps.append('tot_nerolidol_ct')\n",
    "\n",
    "# specify ocimene isomers\n",
    "oci = [x for x in terps if 'ocimene' in x]\n",
    "df['tot_ocimene'] = df[oci].sum(axis=1)\n",
    "terps.append('tot_ocimene')\n",
    "\n",
    "# update terp list\n",
    "old_terps = terps.copy()\n",
    "terps = [x for x in terps if x not in oci+nero]\n",
    "\n",
    "# get common terps\n",
    "lab_terp_counts = df[df['has_terps']].groupby('lab_id')[terps].apply(lambda x: (~pd.isnull(x)).sum()>0).sum().sort_values(ascending=False)\n",
    "\n",
    "common_terps = (lab_terp_counts.head(15).index).drop('iso_pulegol')\n",
    "\n",
    "print(common_terps)"
   ]
  },
  {
   "cell_type": "code",
   "execution_count": 11,
   "metadata": {
    "execution": {
     "iopub.execute_input": "2022-02-18T18:54:44.693639Z",
     "iopub.status.busy": "2022-02-18T18:54:44.692966Z",
     "iopub.status.idle": "2022-02-18T18:54:54.854659Z",
     "shell.execute_reply": "2022-02-18T18:54:54.853952Z",
     "shell.execute_reply.started": "2022-02-18T18:54:44.693558Z"
    }
   },
   "outputs": [],
   "source": [
    "# get count of common terps which == 0\n",
    "df['n_zero_terps'] = (df[common_terps]==0).sum(axis=1)\n",
    "\n",
    "# get top terp and top terp (common) for each sample\n",
    "df['top_terp'] = np.nan\n",
    "df['top_terp_f'] = np.nan\n",
    "terp_dict = {terp: (terp if terp in common_terps else 'other') for terp in terps}\n",
    "df.loc[df['has_terps'], 'top_terp'] = df.loc[df['has_terps'], terps].apply(lambda x: x.idxmax(), axis=1)\n",
    "df.loc[df['has_terps'], 'top_terp_f'] = df.loc[df['has_terps'], terps].apply(lambda x: terp_dict[x.idxmax()], axis=1)\n",
    "\n",
    "# get total terps\n",
    "df['total_terps'] = df.loc[:, terps].sum(axis=1)\n",
    "\n",
    "# calculate terp variance\n",
    "df['terp_var'] = df[terps].apply(lambda x: np.var(x), axis=1)"
   ]
  },
  {
   "cell_type": "markdown",
   "metadata": {},
   "source": [
    "# Initial Cleaning"
   ]
  },
  {
   "cell_type": "code",
   "execution_count": 12,
   "metadata": {
    "execution": {
     "iopub.execute_input": "2022-02-18T18:54:54.855961Z",
     "iopub.status.busy": "2022-02-18T18:54:54.855756Z",
     "iopub.status.idle": "2022-02-18T18:54:54.925917Z",
     "shell.execute_reply": "2022-02-18T18:54:54.925281Z",
     "shell.execute_reply.started": "2022-02-18T18:54:54.855934Z"
    }
   },
   "outputs": [
    {
     "data": {
      "text/html": [
       "<div>\n",
       "<style scoped>\n",
       "    .dataframe tbody tr th:only-of-type {\n",
       "        vertical-align: middle;\n",
       "    }\n",
       "\n",
       "    .dataframe tbody tr th {\n",
       "        vertical-align: top;\n",
       "    }\n",
       "\n",
       "    .dataframe thead th {\n",
       "        text-align: right;\n",
       "    }\n",
       "</style>\n",
       "<table border=\"1\" class=\"dataframe\">\n",
       "  <thead>\n",
       "    <tr style=\"text-align: right;\">\n",
       "      <th></th>\n",
       "      <th>has_cannabs</th>\n",
       "      <th>has_both</th>\n",
       "    </tr>\n",
       "    <tr>\n",
       "      <th>lab_id</th>\n",
       "      <th></th>\n",
       "      <th></th>\n",
       "    </tr>\n",
       "  </thead>\n",
       "  <tbody>\n",
       "    <tr>\n",
       "      <th>lab0</th>\n",
       "      <td>6255</td>\n",
       "      <td>6202</td>\n",
       "    </tr>\n",
       "    <tr>\n",
       "      <th>lab1</th>\n",
       "      <td>13546</td>\n",
       "      <td>13544</td>\n",
       "    </tr>\n",
       "    <tr>\n",
       "      <th>lab2</th>\n",
       "      <td>53233</td>\n",
       "      <td>11138</td>\n",
       "    </tr>\n",
       "    <tr>\n",
       "      <th>lab3</th>\n",
       "      <td>1620</td>\n",
       "      <td>886</td>\n",
       "    </tr>\n",
       "    <tr>\n",
       "      <th>lab4</th>\n",
       "      <td>7243</td>\n",
       "      <td>7241</td>\n",
       "    </tr>\n",
       "    <tr>\n",
       "      <th>lab5</th>\n",
       "      <td>8119</td>\n",
       "      <td>8119</td>\n",
       "    </tr>\n",
       "    <tr>\n",
       "      <th>total</th>\n",
       "      <td>90016</td>\n",
       "      <td>47130</td>\n",
       "    </tr>\n",
       "  </tbody>\n",
       "</table>\n",
       "</div>"
      ],
      "text/plain": [
       "        has_cannabs  has_both\n",
       "lab_id                       \n",
       "lab0           6255      6202\n",
       "lab1          13546     13544\n",
       "lab2          53233     11138\n",
       "lab3           1620       886\n",
       "lab4           7243      7241\n",
       "lab5           8119      8119\n",
       "total         90016     47130"
      ]
     },
     "execution_count": 12,
     "metadata": {},
     "output_type": "execute_result"
    }
   ],
   "source": [
    "# here are the starting ns for each lab\n",
    "pre_ns = df.groupby('lab_id')[['has_cannabs','has_both']].sum()\n",
    "pre_ns.loc['total'] = pre_ns.sum(axis=0)\n",
    "pre_ns"
   ]
  },
  {
   "cell_type": "code",
   "execution_count": 13,
   "metadata": {
    "execution": {
     "iopub.execute_input": "2022-02-18T18:54:54.927431Z",
     "iopub.status.busy": "2022-02-18T18:54:54.927216Z",
     "iopub.status.idle": "2022-02-18T18:54:55.006339Z",
     "shell.execute_reply": "2022-02-18T18:54:55.005265Z",
     "shell.execute_reply.started": "2022-02-18T18:54:54.927403Z"
    }
   },
   "outputs": [
    {
     "data": {
      "text/html": [
       "<div>\n",
       "<style scoped>\n",
       "    .dataframe tbody tr th:only-of-type {\n",
       "        vertical-align: middle;\n",
       "    }\n",
       "\n",
       "    .dataframe tbody tr th {\n",
       "        vertical-align: top;\n",
       "    }\n",
       "\n",
       "    .dataframe thead th {\n",
       "        text-align: right;\n",
       "    }\n",
       "</style>\n",
       "<table border=\"1\" class=\"dataframe\">\n",
       "  <thead>\n",
       "    <tr style=\"text-align: right;\">\n",
       "      <th></th>\n",
       "      <th>anon_producer</th>\n",
       "      <th>strain_slug</th>\n",
       "    </tr>\n",
       "    <tr>\n",
       "      <th>lab_id</th>\n",
       "      <th></th>\n",
       "      <th></th>\n",
       "    </tr>\n",
       "  </thead>\n",
       "  <tbody>\n",
       "    <tr>\n",
       "      <th>lab0</th>\n",
       "      <td>296</td>\n",
       "      <td>836</td>\n",
       "    </tr>\n",
       "    <tr>\n",
       "      <th>lab1</th>\n",
       "      <td>591</td>\n",
       "      <td>1539</td>\n",
       "    </tr>\n",
       "    <tr>\n",
       "      <th>lab2</th>\n",
       "      <td>688</td>\n",
       "      <td>1800</td>\n",
       "    </tr>\n",
       "    <tr>\n",
       "      <th>lab3</th>\n",
       "      <td>5</td>\n",
       "      <td>121</td>\n",
       "    </tr>\n",
       "    <tr>\n",
       "      <th>lab4</th>\n",
       "      <td>544</td>\n",
       "      <td>749</td>\n",
       "    </tr>\n",
       "    <tr>\n",
       "      <th>lab5</th>\n",
       "      <td>1060</td>\n",
       "      <td>1218</td>\n",
       "    </tr>\n",
       "  </tbody>\n",
       "</table>\n",
       "</div>"
      ],
      "text/plain": [
       "        anon_producer  strain_slug\n",
       "lab_id                            \n",
       "lab0              296          836\n",
       "lab1              591         1539\n",
       "lab2              688         1800\n",
       "lab3                5          121\n",
       "lab4              544          749\n",
       "lab5             1060         1218"
      ]
     },
     "execution_count": 13,
     "metadata": {},
     "output_type": "execute_result"
    }
   ],
   "source": [
    "def unique_count(x):\n",
    "    return x.dropna().unique().shape[0]\n",
    "\n",
    "df.groupby('lab_id')[['anon_producer','strain_slug']].agg({'anon_producer':unique_count, 'strain_slug':unique_count})"
   ]
  },
  {
   "cell_type": "code",
   "execution_count": 14,
   "metadata": {
    "execution": {
     "iopub.execute_input": "2022-02-18T18:54:55.008746Z",
     "iopub.status.busy": "2022-02-18T18:54:55.008324Z",
     "iopub.status.idle": "2022-02-18T18:54:55.069146Z",
     "shell.execute_reply": "2022-02-18T18:54:55.067352Z",
     "shell.execute_reply.started": "2022-02-18T18:54:55.008691Z"
    }
   },
   "outputs": [
    {
     "data": {
      "text/plain": [
       "anon_producer    3184\n",
       "strain_slug      3090\n",
       "dtype: int64"
      ]
     },
     "execution_count": 14,
     "metadata": {},
     "output_type": "execute_result"
    }
   ],
   "source": [
    "\n",
    "df[['anon_producer','strain_slug']].agg({'anon_producer':unique_count, 'strain_slug':unique_count})"
   ]
  },
  {
   "cell_type": "code",
   "execution_count": 15,
   "metadata": {
    "execution": {
     "iopub.execute_input": "2022-02-18T18:54:55.070631Z",
     "iopub.status.busy": "2022-02-18T18:54:55.070372Z",
     "iopub.status.idle": "2022-02-18T18:54:55.435718Z",
     "shell.execute_reply": "2022-02-18T18:54:55.434876Z",
     "shell.execute_reply.started": "2022-02-18T18:54:55.070598Z"
    }
   },
   "outputs": [
    {
     "name": "stdout",
     "output_type": "stream",
     "text": [
      "n samples dropped = 11\n"
     ]
    }
   ],
   "source": [
    "remove = df.duplicated(subset=[x for x in df.columns if x not in 'strain_slug']).copy()\n",
    "df = print_remove(df, remove)"
   ]
  },
  {
   "cell_type": "markdown",
   "metadata": {},
   "source": [
    "# Cannab Cleaning"
   ]
  },
  {
   "cell_type": "code",
   "execution_count": 16,
   "metadata": {
    "execution": {
     "iopub.execute_input": "2022-02-18T18:54:55.437180Z",
     "iopub.status.busy": "2022-02-18T18:54:55.436892Z",
     "iopub.status.idle": "2022-02-18T18:54:55.530181Z",
     "shell.execute_reply": "2022-02-18T18:54:55.529333Z",
     "shell.execute_reply.started": "2022-02-18T18:54:55.437141Z"
    }
   },
   "outputs": [
    {
     "name": "stdout",
     "output_type": "stream",
     "text": [
      "n samples dropped = 80\n"
     ]
    }
   ],
   "source": [
    "# hard filter: remove any samples with cannab over thresh\n",
    "cannab_max = 40\n",
    "remove = (df.loc[:, cannab_cols]>cannab_max).sum(axis=1).astype(bool)\n",
    "df = print_remove(df, remove)"
   ]
  },
  {
   "cell_type": "code",
   "execution_count": 17,
   "metadata": {
    "execution": {
     "iopub.execute_input": "2022-02-18T18:54:55.531378Z",
     "iopub.status.busy": "2022-02-18T18:54:55.531127Z",
     "iopub.status.idle": "2022-02-18T18:54:55.619716Z",
     "shell.execute_reply": "2022-02-18T18:54:55.618858Z",
     "shell.execute_reply.started": "2022-02-18T18:54:55.531349Z"
    }
   },
   "outputs": [
    {
     "name": "stdout",
     "output_type": "stream",
     "text": [
      "n samples dropped = 2\n"
     ]
    }
   ],
   "source": [
    "# remove any samples with summed cannabs over thresh\n",
    "cannab_tot_max = 50\n",
    "remove = df[tot_cannab_cols].sum(axis=1)>cannab_tot_max\n",
    "df = print_remove(df, remove)"
   ]
  },
  {
   "cell_type": "code",
   "execution_count": 18,
   "metadata": {
    "execution": {
     "iopub.execute_input": "2022-02-18T18:54:55.622110Z",
     "iopub.status.busy": "2022-02-18T18:54:55.621802Z",
     "iopub.status.idle": "2022-02-18T18:54:55.702790Z",
     "shell.execute_reply": "2022-02-18T18:54:55.702015Z",
     "shell.execute_reply.started": "2022-02-18T18:54:55.622076Z"
    }
   },
   "outputs": [
    {
     "name": "stdout",
     "output_type": "stream",
     "text": [
      "n samples dropped = 591\n"
     ]
    }
   ],
   "source": [
    "# get rid of data that doesn't have a chemotype bc of null values\n",
    "\n",
    "remove = df['chemotype'].isnull()\n",
    "df = print_remove(df, remove)"
   ]
  },
  {
   "cell_type": "markdown",
   "metadata": {},
   "source": [
    "# Terp Cleaning"
   ]
  },
  {
   "cell_type": "code",
   "execution_count": 19,
   "metadata": {
    "execution": {
     "iopub.execute_input": "2022-02-18T18:54:55.704234Z",
     "iopub.status.busy": "2022-02-18T18:54:55.703924Z",
     "iopub.status.idle": "2022-02-18T18:54:55.743048Z",
     "shell.execute_reply": "2022-02-18T18:54:55.742373Z",
     "shell.execute_reply.started": "2022-02-18T18:54:55.704196Z"
    }
   },
   "outputs": [
    {
     "name": "stdout",
     "output_type": "stream",
     "text": [
      "n samples dropped = 2041\n"
     ]
    }
   ],
   "source": [
    "# get terp var thresh\n",
    "terp_var_thresh = 0.001\n",
    "terp_var_bool = (df.loc[:, 'terp_var']<=terp_var_thresh)\n",
    "remove = terp_var_bool&df['has_terps']\n",
    "df = print_remove(df, remove, terp=True, terps=terps)"
   ]
  },
  {
   "cell_type": "code",
   "execution_count": 20,
   "metadata": {
    "execution": {
     "iopub.execute_input": "2022-02-18T18:54:55.744053Z",
     "iopub.status.busy": "2022-02-18T18:54:55.743875Z",
     "iopub.status.idle": "2022-02-18T18:54:55.794374Z",
     "shell.execute_reply": "2022-02-18T18:54:55.793064Z",
     "shell.execute_reply.started": "2022-02-18T18:54:55.744029Z"
    }
   },
   "outputs": [
    {
     "name": "stdout",
     "output_type": "stream",
     "text": [
      "n samples dropped = 8\n"
     ]
    }
   ],
   "source": [
    "# remove terp data for samples  w/ a terp measure over threshold\n",
    "terp_max = 5\n",
    "remove = (df.loc[:, terps]>terp_max).sum(axis=1).astype(bool)\n",
    "df = print_remove(df, remove, terp=True, terps=terps)"
   ]
  },
  {
   "cell_type": "code",
   "execution_count": 21,
   "metadata": {
    "execution": {
     "iopub.execute_input": "2022-02-18T18:54:55.797588Z",
     "iopub.status.busy": "2022-02-18T18:54:55.796811Z",
     "iopub.status.idle": "2022-02-18T18:54:55.848472Z",
     "shell.execute_reply": "2022-02-18T18:54:55.847646Z",
     "shell.execute_reply.started": "2022-02-18T18:54:55.797487Z"
    }
   },
   "outputs": [
    {
     "name": "stdout",
     "output_type": "stream",
     "text": [
      "n samples dropped = 1880\n"
     ]
    }
   ],
   "source": [
    "# remove terp data for samples w/ more than n common terps measuring zero\n",
    "n_zero_max = 10\n",
    "n_zero_bool = df['n_zero_terps'] >= n_zero_max\n",
    "remove = n_zero_bool&df['has_terps']\n",
    "df = print_remove(df, remove, terp=True, terps=terps)"
   ]
  },
  {
   "cell_type": "markdown",
   "metadata": {
    "execution": {
     "iopub.execute_input": "2021-03-05T00:50:57.778801Z",
     "iopub.status.busy": "2021-03-05T00:50:57.778548Z",
     "iopub.status.idle": "2021-03-05T00:50:57.783683Z",
     "shell.execute_reply": "2021-03-05T00:50:57.782924Z",
     "shell.execute_reply.started": "2021-03-05T00:50:57.778769Z"
    }
   },
   "source": [
    "# Final Assembly"
   ]
  },
  {
   "cell_type": "code",
   "execution_count": 22,
   "metadata": {
    "execution": {
     "iopub.execute_input": "2022-02-18T18:54:55.849918Z",
     "iopub.status.busy": "2022-02-18T18:54:55.849561Z",
     "iopub.status.idle": "2022-02-18T18:54:55.889172Z",
     "shell.execute_reply": "2022-02-18T18:54:55.888365Z",
     "shell.execute_reply.started": "2022-02-18T18:54:55.849874Z"
    }
   },
   "outputs": [
    {
     "data": {
      "text/html": [
       "<div>\n",
       "<style scoped>\n",
       "    .dataframe tbody tr th:only-of-type {\n",
       "        vertical-align: middle;\n",
       "    }\n",
       "\n",
       "    .dataframe tbody tr th {\n",
       "        vertical-align: top;\n",
       "    }\n",
       "\n",
       "    .dataframe thead th {\n",
       "        text-align: right;\n",
       "    }\n",
       "</style>\n",
       "<table border=\"1\" class=\"dataframe\">\n",
       "  <thead>\n",
       "    <tr style=\"text-align: right;\">\n",
       "      <th></th>\n",
       "      <th>has_cannabs</th>\n",
       "      <th>has_terps</th>\n",
       "    </tr>\n",
       "    <tr>\n",
       "      <th>lab_id</th>\n",
       "      <th></th>\n",
       "      <th></th>\n",
       "    </tr>\n",
       "  </thead>\n",
       "  <tbody>\n",
       "    <tr>\n",
       "      <th>lab0</th>\n",
       "      <td>6253</td>\n",
       "      <td>6173</td>\n",
       "    </tr>\n",
       "    <tr>\n",
       "      <th>lab1</th>\n",
       "      <td>13508</td>\n",
       "      <td>12025</td>\n",
       "    </tr>\n",
       "    <tr>\n",
       "      <th>lab2</th>\n",
       "      <td>53190</td>\n",
       "      <td>11070</td>\n",
       "    </tr>\n",
       "    <tr>\n",
       "      <th>lab3</th>\n",
       "      <td>1620</td>\n",
       "      <td>695</td>\n",
       "    </tr>\n",
       "    <tr>\n",
       "      <th>lab4</th>\n",
       "      <td>7240</td>\n",
       "      <td>5268</td>\n",
       "    </tr>\n",
       "    <tr>\n",
       "      <th>lab5</th>\n",
       "      <td>8112</td>\n",
       "      <td>7917</td>\n",
       "    </tr>\n",
       "    <tr>\n",
       "      <th>total</th>\n",
       "      <td>89923</td>\n",
       "      <td>43148</td>\n",
       "    </tr>\n",
       "  </tbody>\n",
       "</table>\n",
       "</div>"
      ],
      "text/plain": [
       "        has_cannabs  has_terps\n",
       "lab_id                        \n",
       "lab0           6253       6173\n",
       "lab1          13508      12025\n",
       "lab2          53190      11070\n",
       "lab3           1620        695\n",
       "lab4           7240       5268\n",
       "lab5           8112       7917\n",
       "total         89923      43148"
      ]
     },
     "execution_count": 22,
     "metadata": {},
     "output_type": "execute_result"
    }
   ],
   "source": [
    "# here are the final ns for each lab\n",
    "post_ns = df.groupby('lab_id')[['has_cannabs','has_terps']].sum()\n",
    "post_ns.loc['total'] = post_ns.sum(axis=0)\n",
    "post_ns"
   ]
  },
  {
   "cell_type": "code",
   "execution_count": 23,
   "metadata": {
    "execution": {
     "iopub.execute_input": "2022-02-18T18:54:55.890689Z",
     "iopub.status.busy": "2022-02-18T18:54:55.890346Z",
     "iopub.status.idle": "2022-02-18T18:54:55.958067Z",
     "shell.execute_reply": "2022-02-18T18:54:55.957434Z",
     "shell.execute_reply.started": "2022-02-18T18:54:55.890645Z"
    }
   },
   "outputs": [
    {
     "data": {
      "text/html": [
       "<div>\n",
       "<style scoped>\n",
       "    .dataframe tbody tr th:only-of-type {\n",
       "        vertical-align: middle;\n",
       "    }\n",
       "\n",
       "    .dataframe tbody tr th {\n",
       "        vertical-align: top;\n",
       "    }\n",
       "\n",
       "    .dataframe thead th {\n",
       "        text-align: right;\n",
       "    }\n",
       "</style>\n",
       "<table border=\"1\" class=\"dataframe\">\n",
       "  <thead>\n",
       "    <tr style=\"text-align: right;\">\n",
       "      <th></th>\n",
       "      <th>anon_producer</th>\n",
       "      <th>strain_slug</th>\n",
       "    </tr>\n",
       "    <tr>\n",
       "      <th>lab_id</th>\n",
       "      <th></th>\n",
       "      <th></th>\n",
       "    </tr>\n",
       "  </thead>\n",
       "  <tbody>\n",
       "    <tr>\n",
       "      <th>lab0</th>\n",
       "      <td>293</td>\n",
       "      <td>834</td>\n",
       "    </tr>\n",
       "    <tr>\n",
       "      <th>lab1</th>\n",
       "      <td>589</td>\n",
       "      <td>1538</td>\n",
       "    </tr>\n",
       "    <tr>\n",
       "      <th>lab2</th>\n",
       "      <td>672</td>\n",
       "      <td>1794</td>\n",
       "    </tr>\n",
       "    <tr>\n",
       "      <th>lab3</th>\n",
       "      <td>5</td>\n",
       "      <td>121</td>\n",
       "    </tr>\n",
       "    <tr>\n",
       "      <th>lab4</th>\n",
       "      <td>543</td>\n",
       "      <td>748</td>\n",
       "    </tr>\n",
       "    <tr>\n",
       "      <th>lab5</th>\n",
       "      <td>1058</td>\n",
       "      <td>1218</td>\n",
       "    </tr>\n",
       "  </tbody>\n",
       "</table>\n",
       "</div>"
      ],
      "text/plain": [
       "        anon_producer  strain_slug\n",
       "lab_id                            \n",
       "lab0              293          834\n",
       "lab1              589         1538\n",
       "lab2              672         1794\n",
       "lab3                5          121\n",
       "lab4              543          748\n",
       "lab5             1058         1218"
      ]
     },
     "execution_count": 23,
     "metadata": {},
     "output_type": "execute_result"
    }
   ],
   "source": [
    "df.groupby('lab_id')[['anon_producer','strain_slug']].agg({'anon_producer':unique_count, 'strain_slug':unique_count})"
   ]
  },
  {
   "cell_type": "code",
   "execution_count": 24,
   "metadata": {
    "execution": {
     "iopub.execute_input": "2022-02-18T18:54:55.959075Z",
     "iopub.status.busy": "2022-02-18T18:54:55.958859Z",
     "iopub.status.idle": "2022-02-18T18:54:56.013353Z",
     "shell.execute_reply": "2022-02-18T18:54:56.011099Z",
     "shell.execute_reply.started": "2022-02-18T18:54:55.959049Z"
    }
   },
   "outputs": [
    {
     "data": {
      "text/plain": [
       "anon_producer    3160\n",
       "strain_slug      3087\n",
       "dtype: int64"
      ]
     },
     "execution_count": 24,
     "metadata": {},
     "output_type": "execute_result"
    }
   ],
   "source": [
    "\n",
    "df[['anon_producer','strain_slug']].agg({'anon_producer':unique_count, 'strain_slug':unique_count})"
   ]
  },
  {
   "cell_type": "code",
   "execution_count": 25,
   "metadata": {
    "execution": {
     "iopub.execute_input": "2022-02-18T18:54:56.015182Z",
     "iopub.status.busy": "2022-02-18T18:54:56.014808Z",
     "iopub.status.idle": "2022-02-18T18:54:56.052548Z",
     "shell.execute_reply": "2022-02-18T18:54:56.051358Z",
     "shell.execute_reply.started": "2022-02-18T18:54:56.015136Z"
    }
   },
   "outputs": [
    {
     "data": {
      "text/plain": [
       "3087"
      ]
     },
     "execution_count": 25,
     "metadata": {},
     "output_type": "execute_result"
    }
   ],
   "source": [
    "unique_count(df['strain_slug'])"
   ]
  },
  {
   "cell_type": "code",
   "execution_count": null,
   "metadata": {},
   "outputs": [],
   "source": []
  },
  {
   "cell_type": "code",
   "execution_count": 26,
   "metadata": {
    "execution": {
     "iopub.execute_input": "2022-02-18T18:54:56.054472Z",
     "iopub.status.busy": "2022-02-18T18:54:56.054215Z",
     "iopub.status.idle": "2022-02-18T18:54:56.103862Z",
     "shell.execute_reply": "2022-02-18T18:54:56.102930Z",
     "shell.execute_reply.started": "2022-02-18T18:54:56.054443Z"
    }
   },
   "outputs": [],
   "source": [
    "# create unique id\n",
    "df = df.reset_index(drop=True)\n",
    "df['u_id'] = df.index"
   ]
  },
  {
   "cell_type": "code",
   "execution_count": 27,
   "metadata": {
    "execution": {
     "iopub.execute_input": "2022-02-18T18:54:56.125023Z",
     "iopub.status.busy": "2022-02-18T18:54:56.124641Z",
     "iopub.status.idle": "2022-02-18T18:54:56.210123Z",
     "shell.execute_reply": "2022-02-18T18:54:56.209285Z",
     "shell.execute_reply.started": "2022-02-18T18:54:56.124986Z"
    }
   },
   "outputs": [],
   "source": [
    "# add in Leafly strain info\n",
    "strain_info = pd.read_csv('data/strain_page_info_20210325.csv')\n",
    "strain_info.loc[pd.isnull(strain_info['strain_category']), 'strain_category'] = 'None'\n",
    "\n",
    "# save strain info csv\n",
    "strain_info[['strain_slug','strain_category','strain_popularity']].to_csv('data/strain_info_pub_20210915.csv', index=False)"
   ]
  },
  {
   "cell_type": "code",
   "execution_count": 28,
   "metadata": {
    "execution": {
     "iopub.execute_input": "2022-02-18T18:55:01.860096Z",
     "iopub.status.busy": "2022-02-18T18:55:01.859655Z",
     "iopub.status.idle": "2022-02-18T18:55:02.072103Z",
     "shell.execute_reply": "2022-02-18T18:55:02.071288Z",
     "shell.execute_reply.started": "2022-02-18T18:55:01.860042Z"
    }
   },
   "outputs": [],
   "source": [
    "df = df.merge(strain_info[['strain_slug','strain_category','strain_popularity']], on='strain_slug', how='left')\n",
    "df['strain_category'] = df['strain_category'].fillna('None')"
   ]
  },
  {
   "cell_type": "code",
   "execution_count": 29,
   "metadata": {
    "execution": {
     "iopub.execute_input": "2022-02-18T18:55:04.211926Z",
     "iopub.status.busy": "2022-02-18T18:55:04.211425Z",
     "iopub.status.idle": "2022-02-18T18:55:04.241728Z",
     "shell.execute_reply": "2022-02-18T18:55:04.241058Z",
     "shell.execute_reply.started": "2022-02-18T18:55:04.211862Z"
    }
   },
   "outputs": [],
   "source": [
    "info_cols = ['u_id',\n",
    "             'lab_id',\n",
    "             'strain_slug',\n",
    "             'anon_producer',\n",
    "             'region',\n",
    "             'product_category',\n",
    "             'strain_category',\n",
    "             'strain_popularity',\n",
    "             'chemotype']\n",
    "\n",
    "cannab_info_cols = ['has_cannabs','chemotype_ratio']\n",
    "\n",
    "terp_info_cols = ['has_terps',\n",
    "                 'total_terps',\n",
    "                 'terp_var',\n",
    "                 'top_terp_f']\n",
    "\n",
    "cannab_cols = ['tot_thc',\n",
    "                'tot_cbd',\n",
    "                'tot_cbg',\n",
    "                'tot_cbc',\n",
    "                'tot_cbn',\n",
    "                'tot_thcv']\n",
    "\n",
    "# terp_cols = list(common_terps)+[x for x in old_terps if x not in common_terps]\n",
    "terp_cols = list(common_terps)"
   ]
  },
  {
   "cell_type": "code",
   "execution_count": 30,
   "metadata": {
    "execution": {
     "iopub.execute_input": "2022-02-18T18:55:09.583437Z",
     "iopub.status.busy": "2022-02-18T18:55:09.583150Z",
     "iopub.status.idle": "2022-02-18T18:55:11.217751Z",
     "shell.execute_reply": "2022-02-18T18:55:11.217215Z",
     "shell.execute_reply.started": "2022-02-18T18:55:09.583403Z"
    }
   },
   "outputs": [],
   "source": [
    "# reorder columns just for neatness\n",
    "fin_df = df[info_cols+cannab_info_cols+cannab_cols+terp_info_cols+terp_cols]\n",
    "fin_df.to_csv('data/preproc_lab_data_pub_20220218.csv', index=False)"
   ]
  },
  {
   "cell_type": "code",
   "execution_count": null,
   "metadata": {},
   "outputs": [],
   "source": []
  }
 ],
 "metadata": {
  "kernelspec": {
   "display_name": "Python 3",
   "language": "python",
   "name": "python3"
  },
  "language_info": {
   "codemirror_mode": {
    "name": "ipython",
    "version": 3
   },
   "file_extension": ".py",
   "mimetype": "text/x-python",
   "name": "python",
   "nbconvert_exporter": "python",
   "pygments_lexer": "ipython3",
   "version": "3.7.7"
  }
 },
 "nbformat": 4,
 "nbformat_minor": 4
}
